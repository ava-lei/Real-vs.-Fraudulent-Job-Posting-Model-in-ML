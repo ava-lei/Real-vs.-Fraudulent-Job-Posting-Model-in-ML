{
  "nbformat": 4,
  "nbformat_minor": 0,
  "metadata": {
    "colab": {
      "name": "Final_Lei Jiayue (Ava).ipynb",
      "provenance": [],
      "collapsed_sections": []
    },
    "kernelspec": {
      "display_name": "Python 3",
      "name": "python3"
    },
    "language_info": {
      "name": "python"
    }
  },
  "cells": [
    {
      "cell_type": "markdown",
      "metadata": {
        "id": "HLZ91mmvMQyl"
      },
      "source": [
        "## **Machine Learning Final Project DUE: Friday May 7th 11:59pm**\n",
        "\n",
        "**Note: Please read all the instructions carefully before starting the project.**\n",
        "\n",
        "For your final project you will build an ML model to analyze a dataset of your choice. You are welcome to keep working on the data in your EDA project if your data is large enough (at least 1000 rows for simple models and at least 10,000 for more complex models) or you can choose from the datasets/project suggestions below.\n",
        "\n",
        "In this project make sure that you:\n",
        "- Have a large enough dataset\n",
        "- Split your data in training and testing\n",
        "- Explore your data to inform which type of model to choose (no need if you are using your EDA dataset)\n",
        "- Try different models on your training dataset - then select the most promising model\n",
        "- Use cross validation to fine tune the model’s parameters such as alpha in lasso\n",
        "- Simplify your model using regularization, prunnning, drop-out, etc. to avoid overfitting\n",
        "- Communicate your model’s performance and make sure you compare it to a benchmark when appropriate\n",
        "- Plot interesting graphs and results\n",
        "- Write and publish your article to medium\n",
        "- Commit your code to your GitHub\n",
        "\n",
        "Please ensure you handle all the preprocessing before the modeling.\n",
        "\n",
        "Suggestions for project:\n",
        "You can take a look at the resources given below for choosing a dataset for your project. \n",
        "\n",
        "- Traffic sign detection - https://benchmark.ini.rub.de/gtsdb_dataset.html\n",
        "- Cat and dog classifier - https://www.kaggle.com/c/dogs-vs-cats/data\n",
        "- Other datasets from Kaggle - https://www.kaggle.com/data/41592"
      ]
    },
    {
      "cell_type": "markdown",
      "metadata": {
        "id": "mirWm3dBPv90"
      },
      "source": [
        "## **Grading Criteria**\n",
        "\n",
        "- Show clear exploration of the data to justify model choice\n",
        "- Train mutliple models and clearly articulate why you chose your final model\n",
        "- Show your performance on test dataset\n",
        "- Clear and concise write-up with clear well-documented figures\n",
        "- Commit your code to GitHub"
      ]
    },
    {
      "cell_type": "markdown",
      "metadata": {
        "id": "4ZRNqxFcP4wx"
      },
      "source": [
        "## **Submission Details**\n",
        "\n",
        "This is an individual assignment. You may not work in groups. The assignment is due on Friday (05/07/2021)\n",
        "- To submit your assignment, download your notebook and the dataset, zip the dataset and notebook, and submit the zipped file on blackboard.\n",
        "- Make sure the notebook is named in the format - Final_LastName_FirstName. If you are submitting a zipped file, please name the file as well in the same format.\n",
        "- Please include the link to access your blog and your github repo in your notebook.\n",
        "- Also include the link to your notebook, github repo and the blog in the submission on blackboard. Please ensure the TAs have the required access to your notebooks and the github repo.\n",
        "\n",
        "**Note - If the dataset is too large to be zipped and submitted on blackboard, only submit your notebook, add your dataset to your google drive and share a link to the file in your notebook.**"
      ]
    },
    {
      "cell_type": "markdown",
      "metadata": {
        "id": "id46SuSBrenw"
      },
      "source": [
        "Github Repo Link:\n",
        "https://github.com/ava-lei/Real-vs.-Fraudulent-Job-Posting-Model-in-ML\n",
        "\n",
        "Medium Post Link:\n",
        "https://avalei.medium.com/job-posting-model-building-revising-and-evaluating-in-machine-learning-c0e85b5ebfce"
      ]
    },
    {
      "cell_type": "code",
      "metadata": {
        "id": "ZzWRBLl6MImY"
      },
      "source": [
        "# import libraries\n",
        "import pandas as pd\n",
        "import seaborn as sns\n",
        "import matplotlib.pyplot as plt\n",
        "import xgboost as xgb\n",
        "import numpy as np\n",
        "import re\n",
        "from sklearn.model_selection import train_test_split\n",
        "from sklearn.dummy import DummyClassifier\n",
        "from sklearn.linear_model import LogisticRegression\n",
        "from sklearn.metrics import accuracy_score\n",
        "from sklearn.tree import DecisionTreeClassifier\n",
        "from sklearn.ensemble import BaggingClassifier\n",
        "from sklearn.ensemble import RandomForestClassifier\n",
        "from sklearn.ensemble import AdaBoostClassifier\n",
        "from sklearn.ensemble import GradientBoostingClassifier\n",
        "from sklearn.svm import SVC\n",
        "from sklearn.ensemble import VotingClassifier\n",
        "from sklearn.neighbors import KNeighborsClassifier\n",
        "from xgboost import XGBClassifier\n",
        "from sklearn.metrics import (\n",
        "    classification_report,\n",
        "    recall_score,\n",
        "    precision_score,\n",
        "    accuracy_score\n",
        ")\n",
        "from sklearn.model_selection import KFold\n",
        "from sklearn.model_selection import GridSearchCV\n",
        "from sklearn.metrics import confusion_matrix\n",
        "from sklearn.model_selection import StratifiedKFold\n",
        "from sklearn.model_selection import cross_val_score"
      ],
      "execution_count": 83,
      "outputs": []
    },
    {
      "cell_type": "code",
      "metadata": {
        "colab": {
          "base_uri": "https://localhost:8080/",
          "height": 547
        },
        "id": "3M0yJVWMJwwG",
        "outputId": "41fb3c77-995b-4d26-b060-2dcb2351df4d"
      },
      "source": [
        "#read csv files\n",
        "data = pd.read_csv(\"https://drive.google.com/uc?export=download&id=1vDp9nlkLf7DaJCcan-Y0MtT7bHWvPc1F\") #import job data from the csv file\n",
        "frame = pd.DataFrame(data) #change it into dataframe\n",
        "frame.head() # check the first 5 rows"
      ],
      "execution_count": 6,
      "outputs": [
        {
          "output_type": "execute_result",
          "data": {
            "text/html": [
              "<div>\n",
              "<style scoped>\n",
              "    .dataframe tbody tr th:only-of-type {\n",
              "        vertical-align: middle;\n",
              "    }\n",
              "\n",
              "    .dataframe tbody tr th {\n",
              "        vertical-align: top;\n",
              "    }\n",
              "\n",
              "    .dataframe thead th {\n",
              "        text-align: right;\n",
              "    }\n",
              "</style>\n",
              "<table border=\"1\" class=\"dataframe\">\n",
              "  <thead>\n",
              "    <tr style=\"text-align: right;\">\n",
              "      <th></th>\n",
              "      <th>job_id</th>\n",
              "      <th>title</th>\n",
              "      <th>location</th>\n",
              "      <th>department</th>\n",
              "      <th>salary_range</th>\n",
              "      <th>company_profile</th>\n",
              "      <th>description</th>\n",
              "      <th>requirements</th>\n",
              "      <th>benefits</th>\n",
              "      <th>telecommuting</th>\n",
              "      <th>has_company_logo</th>\n",
              "      <th>has_questions</th>\n",
              "      <th>employment_type</th>\n",
              "      <th>required_experience</th>\n",
              "      <th>required_education</th>\n",
              "      <th>industry</th>\n",
              "      <th>function</th>\n",
              "      <th>fraudulent</th>\n",
              "    </tr>\n",
              "  </thead>\n",
              "  <tbody>\n",
              "    <tr>\n",
              "      <th>0</th>\n",
              "      <td>1</td>\n",
              "      <td>Marketing Intern</td>\n",
              "      <td>US, NY, New York</td>\n",
              "      <td>Marketing</td>\n",
              "      <td>NaN</td>\n",
              "      <td>We're Food52, and we've created a groundbreaki...</td>\n",
              "      <td>Food52, a fast-growing, James Beard Award-winn...</td>\n",
              "      <td>Experience with content management systems a m...</td>\n",
              "      <td>NaN</td>\n",
              "      <td>0</td>\n",
              "      <td>1</td>\n",
              "      <td>0</td>\n",
              "      <td>Other</td>\n",
              "      <td>Internship</td>\n",
              "      <td>NaN</td>\n",
              "      <td>NaN</td>\n",
              "      <td>Marketing</td>\n",
              "      <td>0</td>\n",
              "    </tr>\n",
              "    <tr>\n",
              "      <th>1</th>\n",
              "      <td>2</td>\n",
              "      <td>Customer Service - Cloud Video Production</td>\n",
              "      <td>NZ, , Auckland</td>\n",
              "      <td>Success</td>\n",
              "      <td>NaN</td>\n",
              "      <td>90 Seconds, the worlds Cloud Video Production ...</td>\n",
              "      <td>Organised - Focused - Vibrant - Awesome!Do you...</td>\n",
              "      <td>What we expect from you:Your key responsibilit...</td>\n",
              "      <td>What you will get from usThrough being part of...</td>\n",
              "      <td>0</td>\n",
              "      <td>1</td>\n",
              "      <td>0</td>\n",
              "      <td>Full-time</td>\n",
              "      <td>Not Applicable</td>\n",
              "      <td>NaN</td>\n",
              "      <td>Marketing and Advertising</td>\n",
              "      <td>Customer Service</td>\n",
              "      <td>0</td>\n",
              "    </tr>\n",
              "    <tr>\n",
              "      <th>2</th>\n",
              "      <td>3</td>\n",
              "      <td>Commissioning Machinery Assistant (CMA)</td>\n",
              "      <td>US, IA, Wever</td>\n",
              "      <td>NaN</td>\n",
              "      <td>NaN</td>\n",
              "      <td>Valor Services provides Workforce Solutions th...</td>\n",
              "      <td>Our client, located in Houston, is actively se...</td>\n",
              "      <td>Implement pre-commissioning and commissioning ...</td>\n",
              "      <td>NaN</td>\n",
              "      <td>0</td>\n",
              "      <td>1</td>\n",
              "      <td>0</td>\n",
              "      <td>NaN</td>\n",
              "      <td>NaN</td>\n",
              "      <td>NaN</td>\n",
              "      <td>NaN</td>\n",
              "      <td>NaN</td>\n",
              "      <td>0</td>\n",
              "    </tr>\n",
              "    <tr>\n",
              "      <th>3</th>\n",
              "      <td>4</td>\n",
              "      <td>Account Executive - Washington DC</td>\n",
              "      <td>US, DC, Washington</td>\n",
              "      <td>Sales</td>\n",
              "      <td>NaN</td>\n",
              "      <td>Our passion for improving quality of life thro...</td>\n",
              "      <td>THE COMPANY: ESRI – Environmental Systems Rese...</td>\n",
              "      <td>EDUCATION: Bachelor’s or Master’s in GIS, busi...</td>\n",
              "      <td>Our culture is anything but corporate—we have ...</td>\n",
              "      <td>0</td>\n",
              "      <td>1</td>\n",
              "      <td>0</td>\n",
              "      <td>Full-time</td>\n",
              "      <td>Mid-Senior level</td>\n",
              "      <td>Bachelor's Degree</td>\n",
              "      <td>Computer Software</td>\n",
              "      <td>Sales</td>\n",
              "      <td>0</td>\n",
              "    </tr>\n",
              "    <tr>\n",
              "      <th>4</th>\n",
              "      <td>5</td>\n",
              "      <td>Bill Review Manager</td>\n",
              "      <td>US, FL, Fort Worth</td>\n",
              "      <td>NaN</td>\n",
              "      <td>NaN</td>\n",
              "      <td>SpotSource Solutions LLC is a Global Human Cap...</td>\n",
              "      <td>JOB TITLE: Itemization Review ManagerLOCATION:...</td>\n",
              "      <td>QUALIFICATIONS:RN license in the State of Texa...</td>\n",
              "      <td>Full Benefits Offered</td>\n",
              "      <td>0</td>\n",
              "      <td>1</td>\n",
              "      <td>1</td>\n",
              "      <td>Full-time</td>\n",
              "      <td>Mid-Senior level</td>\n",
              "      <td>Bachelor's Degree</td>\n",
              "      <td>Hospital &amp; Health Care</td>\n",
              "      <td>Health Care Provider</td>\n",
              "      <td>0</td>\n",
              "    </tr>\n",
              "  </tbody>\n",
              "</table>\n",
              "</div>"
            ],
            "text/plain": [
              "   job_id  ... fraudulent\n",
              "0       1  ...          0\n",
              "1       2  ...          0\n",
              "2       3  ...          0\n",
              "3       4  ...          0\n",
              "4       5  ...          0\n",
              "\n",
              "[5 rows x 18 columns]"
            ]
          },
          "metadata": {
            "tags": []
          },
          "execution_count": 6
        }
      ]
    },
    {
      "cell_type": "code",
      "metadata": {
        "colab": {
          "base_uri": "https://localhost:8080/"
        },
        "id": "d6Wm6ZV3pSLG",
        "outputId": "b644ff3e-6f14-4fc1-d317-78d08f29feac"
      },
      "source": [
        "frame.shape #understand the shape of the dataframe"
      ],
      "execution_count": 7,
      "outputs": [
        {
          "output_type": "execute_result",
          "data": {
            "text/plain": [
              "(17880, 18)"
            ]
          },
          "metadata": {
            "tags": []
          },
          "execution_count": 7
        }
      ]
    },
    {
      "cell_type": "code",
      "metadata": {
        "colab": {
          "base_uri": "https://localhost:8080/"
        },
        "id": "rKenNJojpS6u",
        "outputId": "f6797d8b-8991-4dd7-8fc3-81640d97c3fe"
      },
      "source": [
        "frame.info() #check for null values and data types"
      ],
      "execution_count": 8,
      "outputs": [
        {
          "output_type": "stream",
          "text": [
            "<class 'pandas.core.frame.DataFrame'>\n",
            "RangeIndex: 17880 entries, 0 to 17879\n",
            "Data columns (total 18 columns):\n",
            " #   Column               Non-Null Count  Dtype \n",
            "---  ------               --------------  ----- \n",
            " 0   job_id               17880 non-null  int64 \n",
            " 1   title                17880 non-null  object\n",
            " 2   location             17534 non-null  object\n",
            " 3   department           6333 non-null   object\n",
            " 4   salary_range         2868 non-null   object\n",
            " 5   company_profile      14572 non-null  object\n",
            " 6   description          17879 non-null  object\n",
            " 7   requirements         15185 non-null  object\n",
            " 8   benefits             10670 non-null  object\n",
            " 9   telecommuting        17880 non-null  int64 \n",
            " 10  has_company_logo     17880 non-null  int64 \n",
            " 11  has_questions        17880 non-null  int64 \n",
            " 12  employment_type      14409 non-null  object\n",
            " 13  required_experience  10830 non-null  object\n",
            " 14  required_education   9775 non-null   object\n",
            " 15  industry             12977 non-null  object\n",
            " 16  function             11425 non-null  object\n",
            " 17  fraudulent           17880 non-null  int64 \n",
            "dtypes: int64(5), object(13)\n",
            "memory usage: 2.5+ MB\n"
          ],
          "name": "stdout"
        }
      ]
    },
    {
      "cell_type": "code",
      "metadata": {
        "id": "yaS-nyFR3AvW"
      },
      "source": [
        "# select needed feautures\n",
        "del frame['job_id']\n",
        "del frame['description']\n",
        "del frame['department']\n",
        "del frame['company_profile']\n",
        "del frame['benefits']"
      ],
      "execution_count": 9,
      "outputs": []
    },
    {
      "cell_type": "code",
      "metadata": {
        "id": "hs4r5RJoAYNh"
      },
      "source": [
        "# drop duplicates\n",
        "frame.drop_duplicates(inplace=True)"
      ],
      "execution_count": 10,
      "outputs": []
    },
    {
      "cell_type": "code",
      "metadata": {
        "id": "X2Pg5B9VCZlH"
      },
      "source": [
        "#drop null values\n",
        "frame.dropna(axis= 0, how= 'any', inplace=True)"
      ],
      "execution_count": 11,
      "outputs": []
    },
    {
      "cell_type": "code",
      "metadata": {
        "colab": {
          "base_uri": "https://localhost:8080/",
          "height": 479
        },
        "id": "Vd5L8t3o57Do",
        "outputId": "341e1853-0554-4452-a8ed-b204c6f39ba2"
      },
      "source": [
        "frame.head() # check the first 5 rows"
      ],
      "execution_count": 12,
      "outputs": [
        {
          "output_type": "execute_result",
          "data": {
            "text/html": [
              "<div>\n",
              "<style scoped>\n",
              "    .dataframe tbody tr th:only-of-type {\n",
              "        vertical-align: middle;\n",
              "    }\n",
              "\n",
              "    .dataframe tbody tr th {\n",
              "        vertical-align: top;\n",
              "    }\n",
              "\n",
              "    .dataframe thead th {\n",
              "        text-align: right;\n",
              "    }\n",
              "</style>\n",
              "<table border=\"1\" class=\"dataframe\">\n",
              "  <thead>\n",
              "    <tr style=\"text-align: right;\">\n",
              "      <th></th>\n",
              "      <th>title</th>\n",
              "      <th>location</th>\n",
              "      <th>salary_range</th>\n",
              "      <th>requirements</th>\n",
              "      <th>telecommuting</th>\n",
              "      <th>has_company_logo</th>\n",
              "      <th>has_questions</th>\n",
              "      <th>employment_type</th>\n",
              "      <th>required_experience</th>\n",
              "      <th>required_education</th>\n",
              "      <th>industry</th>\n",
              "      <th>function</th>\n",
              "      <th>fraudulent</th>\n",
              "    </tr>\n",
              "  </thead>\n",
              "  <tbody>\n",
              "    <tr>\n",
              "      <th>6</th>\n",
              "      <td>Head of Content (m/f)</td>\n",
              "      <td>DE, BE, Berlin</td>\n",
              "      <td>20000-28000</td>\n",
              "      <td>Your Know-How:                                ...</td>\n",
              "      <td>0</td>\n",
              "      <td>1</td>\n",
              "      <td>1</td>\n",
              "      <td>Full-time</td>\n",
              "      <td>Mid-Senior level</td>\n",
              "      <td>Master's Degree</td>\n",
              "      <td>Online Media</td>\n",
              "      <td>Management</td>\n",
              "      <td>0</td>\n",
              "    </tr>\n",
              "    <tr>\n",
              "      <th>10</th>\n",
              "      <td>ASP.net Developer Job opportunity at United St...</td>\n",
              "      <td>US, NJ, Jersey City</td>\n",
              "      <td>100000-120000</td>\n",
              "      <td>Position : #URL_86fd830a95a64e2b30ceed829e63fd...</td>\n",
              "      <td>0</td>\n",
              "      <td>0</td>\n",
              "      <td>0</td>\n",
              "      <td>Full-time</td>\n",
              "      <td>Mid-Senior level</td>\n",
              "      <td>Bachelor's Degree</td>\n",
              "      <td>Information Technology and Services</td>\n",
              "      <td>Information Technology</td>\n",
              "      <td>0</td>\n",
              "    </tr>\n",
              "    <tr>\n",
              "      <th>15</th>\n",
              "      <td>VP of Sales - Vault Dragon</td>\n",
              "      <td>SG, 01, Singapore</td>\n",
              "      <td>120000-150000</td>\n",
              "      <td>Key Superpowers3-5 years of high-pressure sale...</td>\n",
              "      <td>0</td>\n",
              "      <td>1</td>\n",
              "      <td>1</td>\n",
              "      <td>Full-time</td>\n",
              "      <td>Executive</td>\n",
              "      <td>Bachelor's Degree</td>\n",
              "      <td>Facilities Services</td>\n",
              "      <td>Sales</td>\n",
              "      <td>0</td>\n",
              "    </tr>\n",
              "    <tr>\n",
              "      <th>23</th>\n",
              "      <td>Vice President, Sales and Sponsorship (Busines...</td>\n",
              "      <td>US, CA, Carlsbad</td>\n",
              "      <td>100000-120000</td>\n",
              "      <td>Job Requirements:A reputation as a \"go-getter\"...</td>\n",
              "      <td>0</td>\n",
              "      <td>1</td>\n",
              "      <td>0</td>\n",
              "      <td>Full-time</td>\n",
              "      <td>Executive</td>\n",
              "      <td>Unspecified</td>\n",
              "      <td>Internet</td>\n",
              "      <td>Sales</td>\n",
              "      <td>0</td>\n",
              "    </tr>\n",
              "    <tr>\n",
              "      <th>31</th>\n",
              "      <td>Software Applications Specialist</td>\n",
              "      <td>US, KS,</td>\n",
              "      <td>50000-65000</td>\n",
              "      <td>Must Have's3+ years of experience with web-bas...</td>\n",
              "      <td>0</td>\n",
              "      <td>1</td>\n",
              "      <td>0</td>\n",
              "      <td>Full-time</td>\n",
              "      <td>Associate</td>\n",
              "      <td>Unspecified</td>\n",
              "      <td>Computer Software</td>\n",
              "      <td>Engineering</td>\n",
              "      <td>0</td>\n",
              "    </tr>\n",
              "  </tbody>\n",
              "</table>\n",
              "</div>"
            ],
            "text/plain": [
              "                                                title  ... fraudulent\n",
              "6                               Head of Content (m/f)  ...          0\n",
              "10  ASP.net Developer Job opportunity at United St...  ...          0\n",
              "15                         VP of Sales - Vault Dragon  ...          0\n",
              "23  Vice President, Sales and Sponsorship (Busines...  ...          0\n",
              "31                   Software Applications Specialist  ...          0\n",
              "\n",
              "[5 rows x 13 columns]"
            ]
          },
          "metadata": {
            "tags": []
          },
          "execution_count": 12
        }
      ]
    },
    {
      "cell_type": "code",
      "metadata": {
        "colab": {
          "base_uri": "https://localhost:8080/"
        },
        "id": "3swCfBbSCiY2",
        "outputId": "7c5bc489-58c5-4401-cc24-2ff0c9ed109f"
      },
      "source": [
        "frame.shape #get the shape of the revised dataframe"
      ],
      "execution_count": 13,
      "outputs": [
        {
          "output_type": "execute_result",
          "data": {
            "text/plain": [
              "(1917, 13)"
            ]
          },
          "metadata": {
            "tags": []
          },
          "execution_count": 13
        }
      ]
    },
    {
      "cell_type": "code",
      "metadata": {
        "colab": {
          "base_uri": "https://localhost:8080/"
        },
        "id": "dNr9wqPDDEYO",
        "outputId": "50b73412-81df-4716-af51-dfb7f50e7db6"
      },
      "source": [
        "frame.info() # display the information of the revised dataframe"
      ],
      "execution_count": 14,
      "outputs": [
        {
          "output_type": "stream",
          "text": [
            "<class 'pandas.core.frame.DataFrame'>\n",
            "Int64Index: 1917 entries, 6 to 17867\n",
            "Data columns (total 13 columns):\n",
            " #   Column               Non-Null Count  Dtype \n",
            "---  ------               --------------  ----- \n",
            " 0   title                1917 non-null   object\n",
            " 1   location             1917 non-null   object\n",
            " 2   salary_range         1917 non-null   object\n",
            " 3   requirements         1917 non-null   object\n",
            " 4   telecommuting        1917 non-null   int64 \n",
            " 5   has_company_logo     1917 non-null   int64 \n",
            " 6   has_questions        1917 non-null   int64 \n",
            " 7   employment_type      1917 non-null   object\n",
            " 8   required_experience  1917 non-null   object\n",
            " 9   required_education   1917 non-null   object\n",
            " 10  industry             1917 non-null   object\n",
            " 11  function             1917 non-null   object\n",
            " 12  fraudulent           1917 non-null   int64 \n",
            "dtypes: int64(4), object(9)\n",
            "memory usage: 209.7+ KB\n"
          ],
          "name": "stdout"
        }
      ]
    },
    {
      "cell_type": "markdown",
      "metadata": {
        "id": "-ur-tKMcDBwZ"
      },
      "source": [
        "For the 13 columns, the fraudulent is the target variable, while the rest are feature variables."
      ]
    },
    {
      "cell_type": "code",
      "metadata": {
        "colab": {
          "base_uri": "https://localhost:8080/",
          "height": 279
        },
        "id": "4qWYSxgTCpy7",
        "outputId": "d498101a-b2c3-44b0-bc66-8c22ca21d835"
      },
      "source": [
        "# display the distribution of the target variable\n",
        "sns.countplot(x=frame['fraudulent'])\n",
        "plt.show()"
      ],
      "execution_count": 15,
      "outputs": [
        {
          "output_type": "display_data",
          "data": {
            "image/png": "[encoded data removed]",
            "text/plain": [
              "<Figure size 432x288 with 1 Axes>"
            ]
          },
          "metadata": {
            "tags": [],
            "needs_background": "light"
          }
        }
      ]
    },
    {
      "cell_type": "markdown",
      "metadata": {
        "id": "K1ZOQ3dpFlMH"
      },
      "source": [
        "'0' for not fraudulent job posting and '1' for fraudulent job posting. \n",
        "We can observe that the target variable is unbalanced, so when partitioning data, stratify and random state argument are needed."
      ]
    },
    {
      "cell_type": "code",
      "metadata": {
        "id": "l0XfkzgILT0i"
      },
      "source": [
        "# separate target variable from features\n",
        "X = frame.iloc[:, :-1]\n",
        "X = pd.get_dummies(X)\n",
        "y = frame.iloc[:, -1]\n",
        "\n",
        "# partition data into training and testing sets\n",
        "X_train, X_test, y_train, y_test = train_test_split(X, y, test_size=0.2, stratify=y, random_state=42)"
      ],
      "execution_count": 16,
      "outputs": []
    },
    {
      "cell_type": "code",
      "metadata": {
        "colab": {
          "base_uri": "https://localhost:8080/"
        },
        "id": "Jo82O36iOoPH",
        "outputId": "ab1f4bb2-5eb1-4e9c-a505-ecc1e9b31f17"
      },
      "source": [
        "# baseline classification\n",
        "dummy_classifier = DummyClassifier(strategy='most_frequent')\n",
        "dummy_classifier.fit(X_train,y_train)\n",
        "acc_bas = dummy_classifier.score(X_test,y_test)\n",
        "print(\"Baseline accuracy is\", acc_bas)"
      ],
      "execution_count": 17,
      "outputs": [
        {
          "output_type": "stream",
          "text": [
            "Baseline accuracy is 0.9140625\n"
          ],
          "name": "stdout"
        }
      ]
    },
    {
      "cell_type": "code",
      "metadata": {
        "colab": {
          "base_uri": "https://localhost:8080/"
        },
        "id": "7-GZnfStNzkG",
        "outputId": "8a342ed5-9f30-4072-d86f-f477119023b3"
      },
      "source": [
        "# logistic regression\n",
        "lgr = LogisticRegression()\n",
        "lgr.fit(X_train, y_train)\n",
        "lgr_y_pred = lgr.predict(X_test)\n",
        "df_lgr = pd.DataFrame({'y_test': y_test, 'y_pred': lgr_y_pred}) \n",
        "print(df_lgr)\n",
        "acc_lgr = accuracy_score(y_test, lgr_y_pred)\n",
        "print(\"Logistic regression accurarcy is\", acc_lgr)"
      ],
      "execution_count": 16,
      "outputs": [
        {
          "output_type": "stream",
          "text": [
            "       y_test  y_pred\n",
            "1512        0       0\n",
            "12887       0       0\n",
            "14880       0       0\n",
            "7626        0       0\n",
            "238         0       0\n",
            "...       ...     ...\n",
            "11914       0       0\n",
            "3979        0       0\n",
            "5333        0       0\n",
            "3336        0       0\n",
            "4032        0       0\n",
            "\n",
            "[384 rows x 2 columns]\n",
            "Logistic regression accurarcy is 0.953125\n"
          ],
          "name": "stdout"
        }
      ]
    },
    {
      "cell_type": "code",
      "metadata": {
        "colab": {
          "base_uri": "https://localhost:8080/"
        },
        "id": "0FG7cDLgQozK",
        "outputId": "6783c45c-f610-49a9-e546-f06077eef781"
      },
      "source": [
        "# bagging ensemble with base estimator as DecisionTreeClassifier of max depth = 5, n_estimators = 100, random_state = 42\n",
        "base_est = DecisionTreeClassifier (max_depth = 5)\n",
        "bag = BaggingClassifier(base_est, n_estimators=100, random_state = 42)\n",
        "bag.fit(X_train, y_train)\n",
        "bag_y_pred = bag.predict(X_test)\n",
        "df_bag = pd.DataFrame({ 'y_test': y_test, 'y_pred': bag_y_pred}) \n",
        "print(df_bag)\n",
        "acc_bag = accuracy_score( y_test, bag_y_pred)\n",
        "print('Bagging accuracy is', acc_bag)"
      ],
      "execution_count": 17,
      "outputs": [
        {
          "output_type": "stream",
          "text": [
            "       y_test  y_pred\n",
            "1512        0       0\n",
            "12887       0       0\n",
            "14880       0       0\n",
            "7626        0       0\n",
            "238         0       0\n",
            "...       ...     ...\n",
            "11914       0       0\n",
            "3979        0       0\n",
            "5333        0       0\n",
            "3336        0       0\n",
            "4032        0       0\n",
            "\n",
            "[384 rows x 2 columns]\n",
            "Bagging accuracy is 0.9427083333333334\n"
          ],
          "name": "stdout"
        }
      ]
    },
    {
      "cell_type": "code",
      "metadata": {
        "colab": {
          "base_uri": "https://localhost:8080/"
        },
        "id": "GyiSxh8SU_DO",
        "outputId": "c02f605f-f710-4735-e93e-634f843dbc22"
      },
      "source": [
        "# random forest model with n_estimators = 100, max_features=7, random_state = 42\n",
        "rf = RandomForestClassifier(n_estimators=100, max_features=7, random_state=42)\n",
        "rf.fit(X_train, y_train)\n",
        "rf_y_pred = rf.predict(X_test)\n",
        "df_rf = pd.DataFrame({ 'y_test': y_test, 'y_pred': rf_y_pred}) \n",
        "print(df_rf)\n",
        "acc_rf = accuracy_score(y_test, rf_y_pred)\n",
        "print('Random forest accuracy is', acc_rf)"
      ],
      "execution_count": 18,
      "outputs": [
        {
          "output_type": "stream",
          "text": [
            "       y_test  y_pred\n",
            "1512        0       0\n",
            "12887       0       0\n",
            "14880       0       0\n",
            "7626        0       0\n",
            "238         0       0\n",
            "...       ...     ...\n",
            "11914       0       0\n",
            "3979        0       0\n",
            "5333        0       0\n",
            "3336        0       0\n",
            "4032        0       0\n",
            "\n",
            "[384 rows x 2 columns]\n",
            "Random forest accuracy is 0.9713541666666666\n"
          ],
          "name": "stdout"
        }
      ]
    },
    {
      "cell_type": "code",
      "metadata": {
        "colab": {
          "base_uri": "https://localhost:8080/"
        },
        "id": "j1Y2bpq6XX2f",
        "outputId": "9a822419-7d05-440a-8bb5-f6ac56a4ff76"
      },
      "source": [
        "# ada boost model with base estimator as DecisionTreeClassifier of max depth = 4, n_estimators = 100, random_state = 42, learning_rate = 0.2\n",
        "ada = AdaBoostClassifier(base_est, n_estimators=100, random_state=42, learning_rate=0.2)\n",
        "ada.fit(X_train, y_train)\n",
        "ada_y_pred = ada.predict(X_test)\n",
        "df_ada = pd.DataFrame({ 'y_test': y_test, 'y_pred': ada_y_pred}) \n",
        "print(df_ada)\n",
        "acc_ada = accuracy_score(y_test, ada_y_pred)\n",
        "print('AdaBoost accuracy is', acc_ada)"
      ],
      "execution_count": 19,
      "outputs": [
        {
          "output_type": "stream",
          "text": [
            "       y_test  y_pred\n",
            "1512        0       0\n",
            "12887       0       0\n",
            "14880       0       0\n",
            "7626        0       0\n",
            "238         0       0\n",
            "...       ...     ...\n",
            "11914       0       0\n",
            "3979        0       0\n",
            "5333        0       0\n",
            "3336        0       0\n",
            "4032        0       0\n",
            "\n",
            "[384 rows x 2 columns]\n",
            "AdaBoost accuracy is 0.9739583333333334\n"
          ],
          "name": "stdout"
        }
      ]
    },
    {
      "cell_type": "code",
      "metadata": {
        "colab": {
          "base_uri": "https://localhost:8080/"
        },
        "id": "5gJLNVwAoC2E",
        "outputId": "0774d8b2-5708-4925-b180-db033f7ab400"
      },
      "source": [
        "# gradient boosted trees model with n_estimators = 100, random_state = 42, learning_rate = 0.2\n",
        "gbc = GradientBoostingClassifier(n_estimators=100, random_state=42, learning_rate=0.2)\n",
        "gbc.fit(X_train, y_train)\n",
        "gbc_y_pred = gbc.predict(X_test)\n",
        "df_gbc = pd.DataFrame({ 'y_test': y_test, 'y_pred': gbc_y_pred}) \n",
        "print(df_gbc)\n",
        "acc_gbc = accuracy_score(y_test, gbc_y_pred)\n",
        "print('Gradient boosted trees accuracy is', acc_gbc)"
      ],
      "execution_count": 20,
      "outputs": [
        {
          "output_type": "stream",
          "text": [
            "       y_test  y_pred\n",
            "1512        0       0\n",
            "12887       0       0\n",
            "14880       0       0\n",
            "7626        0       0\n",
            "238         0       0\n",
            "...       ...     ...\n",
            "11914       0       0\n",
            "3979        0       0\n",
            "5333        0       0\n",
            "3336        0       0\n",
            "4032        0       0\n",
            "\n",
            "[384 rows x 2 columns]\n",
            "Gradient boosted trees accuracy is 0.9713541666666666\n"
          ],
          "name": "stdout"
        }
      ]
    },
    {
      "cell_type": "code",
      "metadata": {
        "colab": {
          "base_uri": "https://localhost:8080/"
        },
        "id": "RV_cgHur4iO_",
        "outputId": "a7bdb97d-a6b2-46eb-aa0f-6c72911d447c"
      },
      "source": [
        "# voting classifier with an ensemble of DecisionTreeClassifier, Support Vector Machine and Logistic Regression\n",
        "dt= DecisionTreeClassifier(max_depth=5)\n",
        "svm = SVC(probability=True)\n",
        "vot = VotingClassifier(estimators = [('dt',dt), ('svm',svm), ('lgr',lgr)], voting ='soft') \n",
        "vot.fit(X_train, y_train)\n",
        "vot_y_pred = vot.predict(X_test)\n",
        "df_vot = pd.DataFrame({ 'y_test': y_test, 'y_pred': vot_y_pred}) \n",
        "print(df_vot)\n",
        "acc_vot = accuracy_score(y_test, vot_y_pred)\n",
        "print('Voting accuracy is', acc_vot)"
      ],
      "execution_count": 21,
      "outputs": [
        {
          "output_type": "stream",
          "text": [
            "       y_test  y_pred\n",
            "1512        0       0\n",
            "12887       0       0\n",
            "14880       0       0\n",
            "7626        0       0\n",
            "238         0       0\n",
            "...       ...     ...\n",
            "11914       0       0\n",
            "3979        0       0\n",
            "5333        0       0\n",
            "3336        0       0\n",
            "4032        0       0\n",
            "\n",
            "[384 rows x 2 columns]\n",
            "Voting accuracy is 0.9713541666666666\n"
          ],
          "name": "stdout"
        }
      ]
    },
    {
      "cell_type": "code",
      "metadata": {
        "colab": {
          "base_uri": "https://localhost:8080/"
        },
        "id": "wICIID2V-TpG",
        "outputId": "3ef61556-f8a7-4de7-dcab-236aa3d6ae52"
      },
      "source": [
        "# k nearest neighbors model with n_neighbors=1\n",
        "kn = KNeighborsClassifier(n_neighbors=1)\n",
        "kn.fit(X_train, y_train)\n",
        "kn_y_pred = kn.predict(X_test)\n",
        "df_kn = pd.DataFrame({ 'y_test': y_test, 'y_pred': kn_y_pred}) \n",
        "print(df_kn)\n",
        "acc_kn = accuracy_score(y_test, kn_y_pred)\n",
        "print('K nearest neighbors accuracy is', acc_kn)"
      ],
      "execution_count": 22,
      "outputs": [
        {
          "output_type": "stream",
          "text": [
            "       y_test  y_pred\n",
            "1512        0       0\n",
            "12887       0       0\n",
            "14880       0       0\n",
            "7626        0       0\n",
            "238         0       0\n",
            "...       ...     ...\n",
            "11914       0       0\n",
            "3979        0       0\n",
            "5333        0       0\n",
            "3336        0       0\n",
            "4032        0       0\n",
            "\n",
            "[384 rows x 2 columns]\n",
            "K nearest neighbors accuracy is 0.9739583333333334\n"
          ],
          "name": "stdout"
        }
      ]
    },
    {
      "cell_type": "code",
      "metadata": {
        "colab": {
          "base_uri": "https://localhost:8080/"
        },
        "id": "wB7_LM3Vb6z3",
        "outputId": "6ad4fd7a-9afe-47a6-da05-262ac61f4fa2"
      },
      "source": [
        "# extreme gradient boost model with n_estimators=100, max_depth=5, learning_rate=0.2\n",
        "xg = XGBClassifier(n_estimators=100, max_depth=5, learning_rate=0.2)\n",
        "regex = re.compile(r\"\\[|\\]|<\", re.IGNORECASE)\n",
        "xg_X_train = X_train[:]\n",
        "xg_X_test = X_test[:]\n",
        "xg_X_train.columns = [regex.sub(\"_\", col) if any(x in str(col) for x in set(('[', ']', '<', ' '))) else col for col in X_train.columns.values]\n",
        "xg.fit(xg_X_train, y_train)\n",
        "xg_X_test.columns = [regex.sub(\"_\", col) if any(x in str(col) for x in set(('[', ']', '<'))) else col for col in X_test.columns.values]\n",
        "xg_y_pred = xg.predict(xg_X_test)\n",
        "df_xg = pd.DataFrame({ 'y_test': y_test, 'y_pred': xg_y_pred}) \n",
        "print(df_xg)\n",
        "acc_xg = accuracy_score(y_test, xg_y_pred)\n",
        "print('XGBoost accuracy is ', acc_xg)"
      ],
      "execution_count": 18,
      "outputs": [
        {
          "output_type": "stream",
          "text": [
            "       y_test  y_pred\n",
            "1512        0       0\n",
            "12887       0       0\n",
            "14880       0       0\n",
            "7626        0       0\n",
            "238         0       0\n",
            "...       ...     ...\n",
            "11914       0       0\n",
            "3979        0       0\n",
            "5333        0       0\n",
            "3336        0       0\n",
            "4032        0       0\n",
            "\n",
            "[384 rows x 2 columns]\n",
            "XGBoost accuracy is  0.9765625\n"
          ],
          "name": "stdout"
        }
      ]
    },
    {
      "cell_type": "code",
      "metadata": {
        "colab": {
          "base_uri": "https://localhost:8080/"
        },
        "id": "PZw6cfGhQp7d",
        "outputId": "0a360092-043d-4d2b-a3c4-e56573b930e8"
      },
      "source": [
        "# constructs a dataframe to display the models along with their corresponding accuracies\n",
        "models = ['baseline','logistic regression','bagging', 'random forest','ada boost','gradient boosted trees','voting','k nearest neighbors','xg boost']\n",
        "accuracies = [acc_bas,acc_lgr,acc_bag,acc_rf,acc_ada,acc_gbc,acc_vot,acc_kn,acc_xg]\n",
        "df = pd.DataFrame({'model': models, 'accuracy': accuracies})\n",
        "print(df)"
      ],
      "execution_count": 24,
      "outputs": [
        {
          "output_type": "stream",
          "text": [
            "                    model  accuracy\n",
            "0                baseline  0.914062\n",
            "1     logistic regression  0.953125\n",
            "2                 bagging  0.942708\n",
            "3           random forest  0.971354\n",
            "4               ada boost  0.973958\n",
            "5  gradient boosted trees  0.971354\n",
            "6                  voting  0.971354\n",
            "7     k nearest neighbors  0.973958\n",
            "8                xg boost  0.976562\n"
          ],
          "name": "stdout"
        }
      ]
    },
    {
      "cell_type": "markdown",
      "metadata": {
        "id": "AKaOICV2dyv8"
      },
      "source": [
        "Extreme gradient boosting (XGBoost) is chosen as the model to be further explored on, as it has the highest accuracy and contains many hyperparameters to be tuned and choices for regularization to perform a more accurate while not-under-/over-fitting model.\n"
      ]
    },
    {
      "cell_type": "code",
      "metadata": {
        "id": "ogznRVLUtmp_"
      },
      "source": [
        "# prepare for tuning; has to do some modifications to the feature names to make XGBoost model work\n",
        "xg_X = X[:]\n",
        "xg_X.columns = [regex.sub(\"_\", col) if any(x in str(col) for x in set(('[', ']', '<'))) else col for col in X.columns.values]\n",
        "dmatrix = xgb.DMatrix(data=xg_X,label=y) # prepare the dmatrix"
      ],
      "execution_count": 19,
      "outputs": []
    },
    {
      "cell_type": "code",
      "metadata": {
        "id": "1yaPH2Ulyf5c"
      },
      "source": [
        "# see what cross-validation score with the current parameters\n",
        "params = {'n_estimators':100, 'max_depth': 5,'learning_rate': 0.2}\n",
        "cv_results = xgb.cv(dtrain=dmatrix, params=params, nfold=3, num_boost_round=50,early_stopping_rounds=10,metrics=\"rmse\", as_pandas=True)"
      ],
      "execution_count": 20,
      "outputs": []
    },
    {
      "cell_type": "code",
      "metadata": {
        "colab": {
          "base_uri": "https://localhost:8080/",
          "height": 204
        },
        "id": "xvk8Tvu_4gr_",
        "outputId": "887be5ff-42df-4c2c-ee15-baa30db014f5"
      },
      "source": [
        "cv_results.head()"
      ],
      "execution_count": 18,
      "outputs": [
        {
          "output_type": "execute_result",
          "data": {
            "text/html": [
              "<div>\n",
              "<style scoped>\n",
              "    .dataframe tbody tr th:only-of-type {\n",
              "        vertical-align: middle;\n",
              "    }\n",
              "\n",
              "    .dataframe tbody tr th {\n",
              "        vertical-align: top;\n",
              "    }\n",
              "\n",
              "    .dataframe thead th {\n",
              "        text-align: right;\n",
              "    }\n",
              "</style>\n",
              "<table border=\"1\" class=\"dataframe\">\n",
              "  <thead>\n",
              "    <tr style=\"text-align: right;\">\n",
              "      <th></th>\n",
              "      <th>train-rmse-mean</th>\n",
              "      <th>train-rmse-std</th>\n",
              "      <th>test-rmse-mean</th>\n",
              "      <th>test-rmse-std</th>\n",
              "    </tr>\n",
              "  </thead>\n",
              "  <tbody>\n",
              "    <tr>\n",
              "      <th>0</th>\n",
              "      <td>0.416904</td>\n",
              "      <td>0.001886</td>\n",
              "      <td>0.419846</td>\n",
              "      <td>0.000647</td>\n",
              "    </tr>\n",
              "    <tr>\n",
              "      <th>1</th>\n",
              "      <td>0.353097</td>\n",
              "      <td>0.003107</td>\n",
              "      <td>0.358957</td>\n",
              "      <td>0.001603</td>\n",
              "    </tr>\n",
              "    <tr>\n",
              "      <th>2</th>\n",
              "      <td>0.305280</td>\n",
              "      <td>0.004169</td>\n",
              "      <td>0.315002</td>\n",
              "      <td>0.002565</td>\n",
              "    </tr>\n",
              "    <tr>\n",
              "      <th>3</th>\n",
              "      <td>0.269241</td>\n",
              "      <td>0.004213</td>\n",
              "      <td>0.282131</td>\n",
              "      <td>0.005550</td>\n",
              "    </tr>\n",
              "    <tr>\n",
              "      <th>4</th>\n",
              "      <td>0.241342</td>\n",
              "      <td>0.003792</td>\n",
              "      <td>0.257073</td>\n",
              "      <td>0.006872</td>\n",
              "    </tr>\n",
              "  </tbody>\n",
              "</table>\n",
              "</div>"
            ],
            "text/plain": [
              "   train-rmse-mean  train-rmse-std  test-rmse-mean  test-rmse-std\n",
              "0         0.416904        0.001886        0.419846       0.000647\n",
              "1         0.353097        0.003107        0.358957       0.001603\n",
              "2         0.305280        0.004169        0.315002       0.002565\n",
              "3         0.269241        0.004213        0.282131       0.005550\n",
              "4         0.241342        0.003792        0.257073       0.006872"
            ]
          },
          "metadata": {
            "tags": []
          },
          "execution_count": 18
        }
      ]
    },
    {
      "cell_type": "code",
      "metadata": {
        "colab": {
          "base_uri": "https://localhost:8080/"
        },
        "id": "-OSd-qdE4iEx",
        "outputId": "e9c5fa36-5e82-491e-8d56-ca1655e7c0f2"
      },
      "source": [
        "print((cv_results[\"test-rmse-mean\"]).tail(1))"
      ],
      "execution_count": 19,
      "outputs": [
        {
          "output_type": "stream",
          "text": [
            "49    0.188636\n",
            "Name: test-rmse-mean, dtype: float64\n"
          ],
          "name": "stdout"
        }
      ]
    },
    {
      "cell_type": "markdown",
      "metadata": {
        "id": "0zuSNWER6jAI"
      },
      "source": [
        "The reason why cross validation is needed for tuning hyperparameters (instead of just looking at the accuracy) is that the model that fits this set might not be able to apply to other estimators."
      ]
    },
    {
      "cell_type": "markdown",
      "metadata": {
        "id": "1VUHuylb1WJY"
      },
      "source": [
        "When trying approaches to tune hyperparameters, I find that both for loops of cross validation and grid/randomized search take an extremely long time (above an hour). So, I use cross validation by manually inputting hyperparameters to try out the best fit. The code is shown as below.\n",
        "\n",
        "I find the following is the best combination (least rmse) within a certain range. Though subsample reduces the model's rmse, it is still needed for pruning to reduce the chances of over-fitting."
      ]
    },
    {
      "cell_type": "code",
      "metadata": {
        "colab": {
          "base_uri": "https://localhost:8080/"
        },
        "id": "q9afTNtizKAy",
        "outputId": "fccca7d1-9b71-4ac7-b136-694b93406ef3"
      },
      "source": [
        "params_2 = {'n_estimators':100, 'max_depth': 7,'learning_rate': 0.25, 'subsample':0.9}\n",
        "cv_results_2 = xgb.cv(dtrain=dmatrix, params=params_2, nfold=3, num_boost_round=50,early_stopping_rounds=10,metrics=\"rmse\", as_pandas=True)\n",
        "print((cv_results_2[\"test-rmse-mean\"]).tail(1))"
      ],
      "execution_count": 20,
      "outputs": [
        {
          "output_type": "stream",
          "text": [
            "49    0.185267\n",
            "Name: test-rmse-mean, dtype: float64\n"
          ],
          "name": "stdout"
        }
      ]
    },
    {
      "cell_type": "markdown",
      "metadata": {
        "id": "V5O8yX6dSQxv"
      },
      "source": [
        "Now, we discover the optimal hyperparameters for XGBClassifier to generate a reliable model. After implementing these parameters, we can alter other ones to avoid overfitting. We've already included learning_rate, aka eta, in regularization (multiplying the tree values by a number less than one to make the model fit slower and prevent overfitting) and subsample in sampling (subsample rows of the training data prior to fitting a new estimator). \n",
        "\n",
        "We can do more of these to avoid overfitting. Next, I would perform the search (with some predetermined hyperparameters) to find the optimal min_split_loss, aka gamma, in pruning (fixed threshold of gain improvement to keep a split), L2 regularization, aka lambda, and L1 regularization, aka alpha (shift which splits are taken and shrink the weights). XGBoost itself has these parameters to regulate the model.. "
      ]
    },
    {
      "cell_type": "markdown",
      "metadata": {
        "id": "rU-n_-RN2giv"
      },
      "source": [
        "The next try sets the alpha to 1.1, which is higher than default. An increase in alpha (L1 regularization) means a more conservative model. With all other hyperparameters being set, now we're going to figure the optimal gamma (min_split_loss) as a way of pruning to further avoid over-fitting."
      ]
    },
    {
      "cell_type": "code",
      "metadata": {
        "id": "j1JzWIW1-HNa"
      },
      "source": [
        "# find the best gamma (might take ~40-50 minutes to execute the code)\n",
        "model = XGBClassifier(n_estimators=100, max_depth=7,learning_rate=0.25, subsample=0.9, alpha=1.1)\n",
        "gammas = {'gamma': np.arange(0,5,0.1)}\n",
        "search = GridSearchCV(model,gammas,scoring=\"accuracy\",cv=3,n_jobs=6)\n",
        "result = search.fit(xg_X_train, y_train)\n",
        "print(\"The best gamma is\", result.best_params_)"
      ],
      "execution_count": null,
      "outputs": []
    },
    {
      "cell_type": "markdown",
      "metadata": {
        "id": "Ah8bsNDN-JDP"
      },
      "source": [
        "Now we have the optimal gamma as 3.2\n",
        "\n",
        "Then, we can revise the hyperparameters of the model to optimize it"
      ]
    },
    {
      "cell_type": "code",
      "metadata": {
        "id": "JGUmI1zewR0M",
        "colab": {
          "base_uri": "https://localhost:8080/"
        },
        "outputId": "0540060d-9ee3-4104-a96d-5b6cc42442ab"
      },
      "source": [
        "# the model with new hyperparameters and regularizations (might take ~2 mins to execute the code)\n",
        "xg_new = XGBClassifier(n_estimators=100, max_depth=7,learning_rate=0.25, subsample=0.9, gamma=3.2, alpha=1.1)\n",
        "xg_new.fit(xg_X_train, y_train)\n",
        "xg_new_y_pred = xg_new.predict(xg_X_test)\n",
        "# print the report (accuracy is included)\n",
        "print('Classification Report:\\n')\n",
        "print(classification_report(y_test, xg_new_y_pred))"
      ],
      "execution_count": 21,
      "outputs": [
        {
          "output_type": "stream",
          "text": [
            "Classification Report:\n",
            "\n",
            "              precision    recall  f1-score   support\n",
            "\n",
            "           0       0.98      0.99      0.99       351\n",
            "           1       0.93      0.79      0.85        33\n",
            "\n",
            "    accuracy                           0.98       384\n",
            "   macro avg       0.95      0.89      0.92       384\n",
            "weighted avg       0.98      0.98      0.98       384\n",
            "\n"
          ],
          "name": "stdout"
        }
      ]
    },
    {
      "cell_type": "code",
      "metadata": {
        "colab": {
          "base_uri": "https://localhost:8080/",
          "height": 299
        },
        "id": "MKxqmxcgxPHm",
        "outputId": "67615a00-20ca-4d05-c678-5b925540fda4"
      },
      "source": [
        "# confusion matrix for test data set\n",
        "print('Confusion Matrix for Testing Data (0 for not fraudulent job posting and 1 for fraudulent job posting)')\n",
        "sns.heatmap(confusion_matrix(y_test, xg_new_y_pred), annot = True, fmt=\".0f\", annot_kws={\"size\": 22})"
      ],
      "execution_count": 54,
      "outputs": [
        {
          "output_type": "stream",
          "text": [
            "Confusion Matrix for Testing Data (0 for not fraudulent job posting and 1 for fraudulent job posting)\n"
          ],
          "name": "stdout"
        },
        {
          "output_type": "execute_result",
          "data": {
            "text/plain": [
              "<matplotlib.axes._subplots.AxesSubplot at 0x7fb0a73b91d0>"
            ]
          },
          "metadata": {
            "tags": []
          },
          "execution_count": 54
        },
        {
          "output_type": "display_data",
          "data": {
            "image/png": "[encoded data removed]",
            "text/plain": [
              "<Figure size 432x288 with 2 Axes>"
            ]
          },
          "metadata": {
            "tags": [],
            "needs_background": "light"
          }
        }
      ]
    },
    {
      "cell_type": "markdown",
      "metadata": {
        "id": "KJT6EX3afCrp"
      },
      "source": [
        "Let's do another validation. Due to the imbalance in instances for each class (recall the count plot--far more 'not fraudulent' than 'fraudulent,' this time, I'm going to conduct a stratified cross validation to evaluate the optimized XGBoost model."
      ]
    },
    {
      "cell_type": "code",
      "metadata": {
        "colab": {
          "base_uri": "https://localhost:8080/"
        },
        "id": "eZ5ZnlSJe_RP",
        "outputId": "28cf09eb-db29-4bee-c9fc-5b067d22cb67"
      },
      "source": [
        "# stratified-kfold cross validation\n",
        "kfold = StratifiedKFold(n_splits=10)\n",
        "results = cross_val_score(xg_new, xg_X_train, y_train, cv=kfold)\n",
        "print(\"stratified cross validation score: %.2f%% (%.2f%%)\" % (results.mean()*100, results.std()*100))"
      ],
      "execution_count": 25,
      "outputs": [
        {
          "output_type": "stream",
          "text": [
            "stratified cross validation score: 95.50% (0.84%)\n"
          ],
          "name": "stdout"
        }
      ]
    },
    {
      "cell_type": "code",
      "metadata": {
        "colab": {
          "base_uri": "https://localhost:8080/"
        },
        "id": "l9x3UnRDnq_s",
        "outputId": "2cf55077-b8e6-499f-dc9f-cbc452d95f78"
      },
      "source": [
        "# create feature importance *but we used dummy variables to build the model*\n",
        "# take a few more steps to generate the dataframe\n",
        "imp = xg_new.feature_importances_\n",
        "feature_xg= X_train.columns\n",
        "imp_df =pd.DataFrame({'features':feature_xg, 'importance':imp})\n",
        "title = 0\n",
        "location = 0\n",
        "salary_range = 0\n",
        "requirements = 0\n",
        "telecommuting = 0\n",
        "has_company_logo = 0\n",
        "has_questions = 0\n",
        "employment_type = 0\n",
        "required_experience = 0\n",
        "required_education = 0\n",
        "industry = 0\n",
        "function = 0\n",
        "\n",
        "for c in imp_df['features']:\n",
        "  if 'title' in c:\n",
        "    impo = imp_df[imp_df.features==c]['importance'].sum()\n",
        "    title += impo\n",
        "  if 'location' in c:\n",
        "    impo = imp_df[imp_df.features==c]['importance'].sum()\n",
        "    location += impo\n",
        "  if 'salary' in c:\n",
        "    impo = imp_df[imp_df.features==c]['importance'].sum()\n",
        "    salary_range += impo\n",
        "  if 'requirements' in c:\n",
        "    impo = imp_df[imp_df.features==c]['importance'].sum()\n",
        "    requirements += impo\n",
        "  if 'telecommuting' in c:\n",
        "    impo = imp_df[imp_df.features==c]['importance'].sum()\n",
        "    telecommuting += impo\n",
        "  if 'logo' in c:\n",
        "    impo = imp_df[imp_df.features==c]['importance'].sum()\n",
        "  if 'questions' in c:\n",
        "    impo = imp_df[imp_df.features==c]['importance'].sum()\n",
        "    has_questions += impo\n",
        "  if 'employment' in c:\n",
        "    impo = imp_df[imp_df.features==c]['importance'].sum()\n",
        "    employment_type += impo  \n",
        "  if 'experience' in c:\n",
        "    impo = imp_df[imp_df.features==c]['importance'].sum()\n",
        "    required_experience += impo  \n",
        "  if 'education' in c:\n",
        "    impo = imp_df[imp_df.features==c]['importance'].sum()\n",
        "    required_education += impo\n",
        "  if 'industry' in c:\n",
        "    impo = imp_df[imp_df.features==c]['importance'].sum()\n",
        "    industry += impo\n",
        "  if 'function' in c:\n",
        "    impo = imp_df[imp_df.features==c]['importance'].sum()\n",
        "    function += impo\n",
        "\n",
        "cate_df = pd.DataFrame({'categorical features': frame.iloc[:, :-1].columns, 'importances': [title, location, salary_range, requirements, telecommuting, has_company_logo, has_questions, employment_type, required_experience, required_education, industry, function]})\n",
        "cate_df_sorted=cate_df.sort_values(by='importances',ascending=False)\n",
        "\n",
        "print(cate_df_sorted)"
      ],
      "execution_count": 82,
      "outputs": [
        {
          "output_type": "stream",
          "text": [
            "   categorical features  importances\n",
            "10             industry     0.199124\n",
            "9    required_education     0.143080\n",
            "11             function     0.142775\n",
            "1              location     0.105084\n",
            "0                 title     0.100986\n",
            "2          salary_range     0.088619\n",
            "8   required_experience     0.071512\n",
            "7       employment_type     0.055425\n",
            "3          requirements     0.041477\n",
            "6         has_questions     0.016353\n",
            "4         telecommuting     0.000000\n",
            "5      has_company_logo     0.000000\n"
          ],
          "name": "stdout"
        }
      ]
    },
    {
      "cell_type": "code",
      "metadata": {
        "colab": {
          "base_uri": "https://localhost:8080/",
          "height": 454
        },
        "id": "FlWg7RNPAa4Z",
        "outputId": "beb19bc4-b54e-4765-c324-530b9fbdda8e"
      },
      "source": [
        "cate_fea = frame.iloc[:, :-1].columns\n",
        "importances = [title, location, salary_range, requirements, telecommuting, has_company_logo, has_questions, employment_type, required_experience, required_education, industry, function]\n",
        "plt.style.use('fivethirtyeight')\n",
        "plt.bar(cate_fea, importances, color='#008fd5', edgecolor='black')\n",
        "plt.tick_params('x', labelrotation = 90)\n",
        "plt.xlabel('Categorical Features')\n",
        "plt.ylabel('Feature Importances')\n",
        "plt.title('Feature Importance for the XGBoost Model')\n",
        "plt.show()"
      ],
      "execution_count": 102,
      "outputs": [
        {
          "output_type": "display_data",
          "data": {
            "image/png": "[encoded data removed]",
            "text/plain": [
              "<Figure size 432x288 with 1 Axes>"
            ]
          },
          "metadata": {
            "tags": []
          }
        }
      ]
    },
    {
      "cell_type": "markdown",
      "metadata": {
        "id": "vI07gHRyChd7"
      },
      "source": [
        "We noticed that industry matters the most for identifying whether a job posting is fradulent or not. Let's explore more on this."
      ]
    },
    {
      "cell_type": "code",
      "metadata": {
        "colab": {
          "base_uri": "https://localhost:8080/"
        },
        "id": "DswJ2eeza6ic",
        "outputId": "a7df3ac1-66e4-4dc2-c596-b3912462c2ed"
      },
      "source": [
        "ind = frame['industry']\n",
        "indGroup = frame.groupby(by='industry').agg('count')\n",
        "industry_count =indGroup[[indGroup.columns[0]]]\n",
        "industry_fradulent = frame[frame['fraudulent']== 1]\n",
        "ind_f_Group = industry_fradulent.groupby(by='industry').agg('count')\n",
        "industry_f_count =ind_f_Group[[ind_f_Group.columns[0]]]\n",
        "df_ind = pd.concat([industry_count, industry_f_count], axis=1)\n",
        "df_ind.columns = ['total_postings', 'fraudulent_postings']\n",
        "df_ind['fraudulent_postings'] = df_ind['fraudulent_postings'].replace(np.nan, 0)\n",
        "df_ind['fraudulent_percentage'] = df_ind.fraudulent_postings/df_ind.total_postings\n",
        "print(df_ind)"
      ],
      "execution_count": 147,
      "outputs": [
        {
          "output_type": "stream",
          "text": [
            "                      total_postings  ...  fraudulent_percentage\n",
            "Accounting                        32  ...                 0.5625\n",
            "Airlines/Aviation                  2  ...                 0.0000\n",
            "Apparel & Fashion                  9  ...                 0.0000\n",
            "Automotive                        46  ...                 0.0000\n",
            "Aviation & Aerospace               2  ...                 0.0000\n",
            "...                              ...  ...                    ...\n",
            "Warehousing                        4  ...                 0.2500\n",
            "Wholesale                          1  ...                 0.0000\n",
            "Wine and Spirits                   1  ...                 0.0000\n",
            "Wireless                           1  ...                 0.0000\n",
            "Writing and Editing                3  ...                 0.0000\n",
            "\n",
            "[111 rows x 3 columns]\n"
          ],
          "name": "stdout"
        }
      ]
    },
    {
      "cell_type": "code",
      "metadata": {
        "colab": {
          "base_uri": "https://localhost:8080/",
          "height": 569
        },
        "id": "q_BETDZ5giKO",
        "outputId": "25d0a4fb-1c0d-44b4-9a8f-7f6c2a4da932"
      },
      "source": [
        "# ensure the total posting is at least 10 (having just 1 total posting in an industry and is fake generates a 100% fraudulent percentage)\n",
        "df_ind = df_ind[df_ind['total_postings']>9].sort_values(by=['fraudulent_percentage'],ascending=False)[0:24]\n",
        "indus = df_ind.index\n",
        "f_percentage = df_ind['fraudulent_percentage']\n",
        "plt.style.use('fivethirtyeight')\n",
        "plt.bar(indus, f_percentage, color='#6d904f', edgecolor='black')\n",
        "plt.tick_params('x', labelrotation = 90)\n",
        "plt.xlabel('Industry')\n",
        "plt.ylabel('Percentage' )\n",
        "plt.title('Percentage of Fraudulent Job Posting in Each Industry')\n",
        "plt.show()"
      ],
      "execution_count": 149,
      "outputs": [
        {
          "output_type": "display_data",
          "data": {
            "image/png": "[encoded data removed]",
            "text/plain": [
              "<Figure size 432x288 with 1 Axes>"
            ]
          },
          "metadata": {
            "tags": []
          }
        }
      ]
    }
  ]
}